{
 "cells": [
  {
   "cell_type": "markdown",
   "metadata": {},
   "source": [
    "Part 1 - API requests - 15 points"
   ]
  },
  {
   "cell_type": "code",
   "execution_count": 85,
   "metadata": {},
   "outputs": [
    {
     "name": "stdout",
     "output_type": "stream",
     "text": [
      "fd14c4b3\n",
      "https://ies-midterm.soulution.rocks/data/fd14c4b3\n"
     ]
    }
   ],
   "source": [
    "import requests\n",
    "import json\n",
    "\n",
    "url = 'https://ies-midterm.soulution.rocks/'\n",
    "api_endpoint = 'https://ies-midterm.soulution.rocks/login'\n",
    "payload = '{\"cuni\":\"16703499\"}'\n",
    "r = requests.post(api_endpoint, data=payload)\n",
    "json_data = r.json()\n",
    "personal_code = json_data['data']['personal_code']\n",
    "print(personal_code)\n",
    "\n",
    "url_with_path = url + 'data/' + personal_code\n",
    "print(url_with_path)\n"
   ]
  },
  {
   "cell_type": "code",
   "execution_count": 63,
   "metadata": {},
   "outputs": [
    {
     "name": "stdout",
     "output_type": "stream",
     "text": [
      "{\"data\": {}, \"message\": \"DO NOT SHARE THE DATASET WITH ANYONE! Download manually the following file which contains the data: https://ies-python-midterm.s3.eu-central-1.amazonaws.com/sos.zip\"}\n"
     ]
    }
   ],
   "source": [
    "import requests\n",
    "import json\n",
    "saveme_endpoint = 'https://ies-midterm.soulution.rocks/saveme'\n",
    "CUNInumber = '{\"cuni\":\"16703499\"}'\n",
    "\n",
    "saveme_post = requests.post(saveme_endpoint, data = CUNInumber)\n",
    "print(saveme_post.text)\n"
   ]
  },
  {
   "cell_type": "markdown",
   "metadata": {},
   "source": [
    "SOS Dataset"
   ]
  },
  {
   "cell_type": "code",
   "execution_count": 80,
   "metadata": {},
   "outputs": [
    {
     "name": "stdout",
     "output_type": "stream",
     "text": [
      "           Date       Open       High        Low      Close  Adj Close  Volume\n",
      "0    2019-01-02  70.110001  74.230003  69.980003  73.839996  69.908577  725100\n",
      "1    2019-01-03  73.379997  75.589996  72.930000  73.669998  69.747620  790200\n",
      "2    2019-01-04  74.800003  76.860001  74.599998  76.440002  72.370148  607900\n",
      "3    2019-01-07  74.449997  76.260002  73.150002  75.010002  71.016281  783700\n",
      "4    2019-01-08  76.500000  77.589996  74.889999  77.150002  73.042351  771300\n",
      "..          ...        ...        ...        ...        ...        ...     ...\n",
      "473  2020-11-16  89.290001  89.610001  86.919998  88.690002  88.690002  370900\n",
      "474  2020-11-17  87.879997  89.550003  87.570000  88.839996  88.839996  309400\n",
      "475  2020-11-18  89.180000  90.690002  88.279999  88.309998  88.309998  334200\n",
      "476  2020-11-19  87.820000  88.550003  87.250000  88.489998  88.489998  166300\n",
      "477  2020-11-20  87.980003  88.570000  87.160004  88.309998  88.309998  196500\n",
      "\n",
      "[478 rows x 7 columns]\n",
      "           Date       Open       High    Low      Close  Adj Close  Volume\n",
      "0    2019-01-02  24.680000  24.750000  24.68  24.709999  23.635632   89800\n",
      "1    2019-01-03  24.690001  24.740000  24.68  24.680000  23.606937  175700\n",
      "2    2019-01-04  24.650000  24.709999  24.65  24.709999  23.635632  473800\n",
      "3    2019-01-07  24.670000  24.709999  24.67  24.709999  23.635632   85800\n",
      "4    2019-01-08  24.670000  24.719999  24.67  24.709999  23.635632  114500\n",
      "..          ...        ...        ...    ...        ...        ...     ...\n",
      "473  2020-11-16  25.240000  25.250000  25.23  25.240000  25.240000  206700\n",
      "474  2020-11-17  25.230000  25.270000  25.23  25.270000  25.270000  434900\n",
      "475  2020-11-18  25.250000  25.270000  25.24  25.270000  25.270000  473100\n",
      "476  2020-11-19  25.270000  25.290001  25.24  25.280001  25.280001  567600\n",
      "477  2020-11-20  25.290001  25.290001  25.24  25.250000  25.250000  305600\n",
      "\n",
      "[478 rows x 7 columns]\n"
     ]
    }
   ],
   "source": [
    "data_evr = pd.read_csv('/Users/petrasuntychova/Downloads/sos/EVR.csv')\n",
    "print(data_evr)\n",
    "\n",
    "data_fltr = pd.read_csv('/Users/petrasuntychova/Downloads/sos/FLTR.csv')\n",
    "print(data_fltr)\n"
   ]
  }
 ],
 "metadata": {
  "kernelspec": {
   "display_name": "Python 3",
   "language": "python",
   "name": "python3"
  },
  "language_info": {
   "codemirror_mode": {
    "name": "ipython",
    "version": 3
   },
   "file_extension": ".py",
   "mimetype": "text/x-python",
   "name": "python",
   "nbconvert_exporter": "python",
   "pygments_lexer": "ipython3",
   "version": "3.8.5"
  }
 },
 "nbformat": 4,
 "nbformat_minor": 4
}
